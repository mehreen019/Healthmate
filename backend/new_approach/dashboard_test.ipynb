{
 "cells": [
  {
   "cell_type": "code",
   "execution_count": 1,
   "metadata": {},
   "outputs": [],
   "source": [
    "import joblib\n",
    "import pandas as pd\n",
    "import pickle\n",
    "import numpy as np\n",
    "from sklearn.ensemble import RandomForestClassifier\n",
    "from sklearn.model_selection import train_test_split"
   ]
  },
  {
   "cell_type": "code",
   "execution_count": null,
   "metadata": {},
   "outputs": [],
   "source": [
    "filename = 'diabetes-prediction-rfc-model.pkl'\n",
    "classifier = pickle.load(open(filename, 'rb'))\n",
    "model = pickle.load(open('breast.pkl', 'rb'))\n",
    "model1 = pickle.load(open('heart.pkl', 'rb'))\n"
   ]
  },
  {
   "cell_type": "markdown",
   "metadata": {},
   "source": [
    "kidney"
   ]
  },
  {
   "cell_type": "code",
   "execution_count": null,
   "metadata": {},
   "outputs": [],
   "source": [
    "def ValuePredictor(to_predict_list, size):\n",
    "    to_predict = np.array(to_predict_list).reshape(1, size)\n",
    "    if size == 7:\n",
    "        loaded_model = joblib.load('kidney_model.pkl')\n",
    "        result = loaded_model.predict(to_predict)\n",
    "    return result[0]\n",
    "\n",
    "\n",
    "@app.route(\"/predictkidney\",  methods=['GET', 'POST'])\n",
    "def predictkidney():\n",
    "    if request.method == \"POST\":\n",
    "        to_predict_list = request.form.to_dict()\n",
    "        to_predict_list = list(to_predict_list.values())\n",
    "        to_predict_list = list(map(float, to_predict_list))\n",
    "        if len(to_predict_list) == 7:\n",
    "            result = ValuePredictor(to_predict_list, 7)\n",
    "    if(int(result) == 1):\n",
    "        prediction = \"Patient has a high risk of Kidney Disease, please consult your doctor immediately\"\n",
    "    else:\n",
    "        prediction = \"Patient has a low risk of Kidney Disease\"\n",
    "    return render_template(\"kidney_result.html\", prediction_text=prediction)"
   ]
  },
  {
   "cell_type": "markdown",
   "metadata": {},
   "source": [
    "liver"
   ]
  },
  {
   "cell_type": "code",
   "execution_count": null,
   "metadata": {},
   "outputs": [],
   "source": [
    "def ValuePred(to_predict_list, size):\n",
    "    to_predict = np.array(to_predict_list).reshape(1,size)\n",
    "    if(size==7):\n",
    "        loaded_model = joblib.load('liver_model.pkl')\n",
    "        result = loaded_model.predict(to_predict)\n",
    "    return result[0]\n",
    "\n",
    "\n",
    "@app.route('/predictliver', methods=[\"POST\"])\n",
    "def predictliver():\n",
    "    if request.method == \"POST\":\n",
    "        to_predict_list = request.form.to_dict()\n",
    "        to_predict_list = list(to_predict_list.values())\n",
    "        to_predict_list = list(map(float, to_predict_list))\n",
    "        if len(to_predict_list) == 7:\n",
    "            result = ValuePred(to_predict_list, 7)\n",
    "\n",
    "    if int(result) == 1:\n",
    "        prediction = \"Patient has a high risk of Liver Disease, please consult your doctor immediately\"\n",
    "    else:\n",
    "        prediction = \"Patient has a low risk of Kidney Disease\"\n",
    "    return render_template(\"liver_result.html\", prediction_text=prediction)"
   ]
  },
  {
   "cell_type": "markdown",
   "metadata": {},
   "source": [
    "breast"
   ]
  },
  {
   "cell_type": "code",
   "execution_count": null,
   "metadata": {},
   "outputs": [],
   "source": [
    "@app.route('/predict', methods=['POST'])\n",
    "def predict():\n",
    "    input_features = [int(x) for x in request.form.values()]\n",
    "    features_value = [np.array(input_features)]\n",
    "    features_name = ['clump_thickness', 'uniform_cell_size', 'uniform_cell_shape', 'marginal_adhesion',\n",
    "                     'single_epithelial_size', 'bare_nuclei', 'bland_chromatin', 'normal_nucleoli', 'mitoses']\n",
    "    df = pd.DataFrame(features_value, columns=features_name)\n",
    "    output = model.predict(df)\n",
    "    if output == 4:\n",
    "        res_val = \"a high risk of Breast Cancer\"\n",
    "    else:\n",
    "        res_val = \"a low risk of Breast Cancer\"\n",
    "\n",
    "    return render_template('cancer_result.html', prediction_text='Patient has {}'.format(res_val))"
   ]
  },
  {
   "cell_type": "markdown",
   "metadata": {},
   "source": [
    "diabetes"
   ]
  },
  {
   "cell_type": "code",
   "execution_count": null,
   "metadata": {},
   "outputs": [],
   "source": [
    "filename = 'diabetes-prediction-rfc-model.pkl'\n",
    "pickle.dump(classifier, open(filename, 'wb'))\n",
    "\n",
    "#####################################################################\n",
    "\n",
    "\n",
    "@app.route('/predictt', methods=['POST'])\n",
    "def predictt():\n",
    "    if request.method == 'POST':\n",
    "        preg = request.form['pregnancies']\n",
    "        glucose = request.form['glucose']\n",
    "        bp = request.form['bloodpressure']\n",
    "        st = request.form['skinthickness']\n",
    "        insulin = request.form['insulin']\n",
    "        bmi = request.form['bmi']\n",
    "        dpf = request.form['dpf']\n",
    "        age = request.form['age']\n",
    "\n",
    "        data = np.array([[preg, glucose, bp, st, insulin, bmi, dpf, age]])\n",
    "        my_prediction = classifier.predict(data)\n",
    "\n",
    "        return render_template('diab_result.html', prediction=my_prediction)"
   ]
  },
  {
   "cell_type": "markdown",
   "metadata": {},
   "source": [
    "heart"
   ]
  },
  {
   "cell_type": "code",
   "execution_count": null,
   "metadata": {},
   "outputs": [],
   "source": [
    "@app.route('/predictheart', methods=['POST'])\n",
    "def predictheart():\n",
    "    input_features = [float(x) for x in request.form.values()]\n",
    "    features_value = [np.array(input_features)]\n",
    "\n",
    "    features_name = [\"age\", \"trestbps\", \"chol\", \"thalach\", \"oldpeak\", \"sex_0\",\n",
    "                     \"  sex_1\", \"cp_0\", \"cp_1\", \"cp_2\", \"cp_3\", \"  fbs_0\",\n",
    "                     \"restecg_0\", \"restecg_1\", \"restecg_2\", \"exang_0\", \"exang_1\",\n",
    "                     \"slope_0\", \"slope_1\", \"slope_2\", \"ca_0\", \"ca_1\", \"ca_2\", \"thal_1\",\n",
    "                     \"thal_2\", \"thal_3\"]\n",
    "\n",
    "    df = pd.DataFrame(features_value, columns=features_name)\n",
    "    output = model1.predict(df)\n",
    "\n",
    "    if output == 1:\n",
    "        res_val = \"a high risk of Heart Disease\"\n",
    "    else:\n",
    "        res_val = \"a low risk of Heart Disease\"\n",
    "\n",
    "    return render_template('heart_result.html', prediction_text='Patient has {}'.format(res_val))"
   ]
  },
  {
   "cell_type": "code",
   "execution_count": 9,
   "metadata": {},
   "outputs": [
    {
     "data": {
      "text/plain": [
       "'80 bpm'"
      ]
     },
     "execution_count": 9,
     "metadata": {},
     "output_type": "execute_result"
    }
   ],
   "source": [
    "data={   \"pulseRate\": '80 bpm', \"age\": '',  \"temperature\": '',   \"weight\": '',   \"bloodPressure\": '',  \" pregnancies\": '',   \"glucose\": '',  \"skinThickness\": '',  \"insulin\": '',  \"BMI\": '',   \"diabetesPedigree\": '' }\n",
    "data['pulseRate']\n",
    "    "
   ]
  }
 ],
 "metadata": {
  "kernelspec": {
   "display_name": "Python 3",
   "language": "python",
   "name": "python3"
  },
  "language_info": {
   "codemirror_mode": {
    "name": "ipython",
    "version": 3
   },
   "file_extension": ".py",
   "mimetype": "text/x-python",
   "name": "python",
   "nbconvert_exporter": "python",
   "pygments_lexer": "ipython3",
   "version": "3.12.0"
  }
 },
 "nbformat": 4,
 "nbformat_minor": 2
}
