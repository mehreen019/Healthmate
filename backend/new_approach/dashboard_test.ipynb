{
 "cells": [
  {
   "cell_type": "code",
   "execution_count": 1,
   "metadata": {},
   "outputs": [],
   "source": [
    "import joblib\n",
    "import pandas as pd\n",
    "import pickle\n",
    "import numpy as np\n",
    "from sklearn.ensemble import RandomForestClassifier\n",
    "from sklearn.model_selection import train_test_split\n"
   ]
  },
  {
   "cell_type": "code",
   "execution_count": 29,
   "metadata": {},
   "outputs": [
    {
     "name": "stderr",
     "output_type": "stream",
     "text": [
      "c:\\Python312\\Lib\\site-packages\\sklearn\\base.py:376: InconsistentVersionWarning: Trying to unpickle estimator SVC from version 0.23.2 when using version 1.5.0. This might lead to breaking code or invalid results. Use at your own risk. For more info please refer to:\n",
      "https://scikit-learn.org/stable/model_persistence.html#security-maintainability-limitations\n",
      "  warnings.warn(\n"
     ]
    }
   ],
   "source": [
    "\"\"\"\n",
    "filename = 'diabetes-prediction-rfc-model.pkl'\n",
    "classifier = RandomForestClassifier(n_estimators=20)\n",
    "with open(filename, 'rb') as f:\n",
    "    classifier =  pickle.load(f)\n",
    "\"\"\"\n",
    "\n",
    "\n",
    "model = pickle.load(open('breast.pkl', 'rb'))"
   ]
  },
  {
   "cell_type": "markdown",
   "metadata": {},
   "source": [
    "kidney"
   ]
  },
  {
   "cell_type": "code",
   "execution_count": 25,
   "metadata": {},
   "outputs": [],
   "source": [
    "def ValuePredictor(to_predict_list, size):\n",
    "    to_predict = np.array(to_predict_list).reshape(1, size)\n",
    "    if size == 7:\n",
    "        loaded_model = joblib.load('kidney_model.pkl')\n",
    "        result = loaded_model.predict(to_predict)\n",
    "    return result[0]\n",
    "\n",
    "\n",
    "def predictkidney(data):\n",
    "    \n",
    "    keys_to_process = [\"bloodPressure\", \"specificGravity\", \"bloodSugar\",\n",
    "                \"rbcCount\", \"pusCount\", \"pusClumps\", \"albumin\"]\n",
    "    to_predict_list = [float(data[key]) for key in keys_to_process if data[key]]\n",
    "    #to_predict_list = [float(data[key]) for key in keys_to_process if data[key]]\n",
    "    #to_predict_list = request.form.to_dict()\n",
    "    #to_predict_list = list(to_predict_list.values())\n",
    "    #to_predict_list = list(map(float, to_predict_list))\n",
    "    \n",
    "    if len(to_predict_list) == 7:\n",
    "            result = ValuePredictor(to_predict_list, 7)\n",
    "    return result"
   ]
  },
  {
   "cell_type": "markdown",
   "metadata": {},
   "source": [
    "liver"
   ]
  },
  {
   "cell_type": "code",
   "execution_count": null,
   "metadata": {},
   "outputs": [],
   "source": [
    "def ValuePred(to_predict_list, size):\n",
    "    to_predict = np.array(to_predict_list).reshape(1,size)\n",
    "    if(size==7):\n",
    "        loaded_model = joblib.load('liver_model.pkl')\n",
    "        result = loaded_model.predict(to_predict)\n",
    "    return result[0]\n",
    "\n",
    "\n",
    "@app.route('/predictliver', methods=[\"POST\"])\n",
    "def predictliver():\n",
    "    if request.method == \"POST\":\n",
    "        to_predict_list = request.form.to_dict()\n",
    "        to_predict_list = list(to_predict_list.values())\n",
    "        to_predict_list = list(map(float, to_predict_list))\n",
    "        if len(to_predict_list) == 7:\n",
    "            result = ValuePred(to_predict_list, 7)\n",
    "\n",
    "    if int(result) == 1:\n",
    "        prediction = \"Patient has a high risk of Liver Disease, please consult your doctor immediately\"\n",
    "    else:\n",
    "        prediction = \"Patient has a low risk of Kidney Disease\"\n",
    "    return render_template(\"liver_result.html\", prediction_text=prediction)"
   ]
  },
  {
   "cell_type": "markdown",
   "metadata": {},
   "source": [
    "breast"
   ]
  },
  {
   "cell_type": "code",
   "execution_count": 30,
   "metadata": {},
   "outputs": [],
   "source": [
    "\n",
    "def predict(data):\n",
    "    clump = data['clumpThick']\n",
    "    preg = data['cellSize']\n",
    "    glucose = data['cellShape']\n",
    "    bp = data['marginalAdhesion']\n",
    "    st = data['epithelial']\n",
    "    insulin = data['bareNuclei']\n",
    "    bmi = data['chromatin']\n",
    "    dpf = data['normalNuclei']\n",
    "    age = data['mitoses']\n",
    "    features_value = [np.array([clump, preg, glucose, bp, st, insulin, bmi, dpf, age])]\n",
    "    features_name = ['clump_thickness', 'uniform_cell_size', 'uniform_cell_shape', 'marginal_adhesion',\n",
    "                     'single_epithelial_size', 'bare_nuclei', 'bland_chromatin', 'normal_nucleoli', 'mitoses']\n",
    "    df = pd.DataFrame(features_value, columns=features_name)\n",
    "    output = model.predict(df)\n",
    "    if output == 4:\n",
    "        return 1\n",
    "    else:\n",
    "        return 0"
   ]
  },
  {
   "cell_type": "markdown",
   "metadata": {},
   "source": [
    "diabetes"
   ]
  },
  {
   "cell_type": "code",
   "execution_count": 17,
   "metadata": {},
   "outputs": [
    {
     "name": "stderr",
     "output_type": "stream",
     "text": [
      "C:\\Users\\ASUS\\AppData\\Local\\Temp\\ipykernel_14188\\1317221848.py:10: FutureWarning: A value is trying to be set on a copy of a DataFrame or Series through chained assignment using an inplace method.\n",
      "The behavior will change in pandas 3.0. This inplace method will never work because the intermediate object on which we are setting values always behaves as a copy.\n",
      "\n",
      "For example, when doing 'df[col].method(value, inplace=True)', try using 'df.method({col: value}, inplace=True)' or df[col] = df[col].method(value) instead, to perform the operation inplace on the original object.\n",
      "\n",
      "\n",
      "  df_copy['Glucose'].fillna(df_copy['Glucose'].mean(), inplace=True)\n",
      "C:\\Users\\ASUS\\AppData\\Local\\Temp\\ipykernel_14188\\1317221848.py:11: FutureWarning: A value is trying to be set on a copy of a DataFrame or Series through chained assignment using an inplace method.\n",
      "The behavior will change in pandas 3.0. This inplace method will never work because the intermediate object on which we are setting values always behaves as a copy.\n",
      "\n",
      "For example, when doing 'df[col].method(value, inplace=True)', try using 'df.method({col: value}, inplace=True)' or df[col] = df[col].method(value) instead, to perform the operation inplace on the original object.\n",
      "\n",
      "\n",
      "  df_copy['BloodPressure'].fillna(df_copy['BloodPressure'].mean(), inplace=True)\n",
      "C:\\Users\\ASUS\\AppData\\Local\\Temp\\ipykernel_14188\\1317221848.py:12: FutureWarning: A value is trying to be set on a copy of a DataFrame or Series through chained assignment using an inplace method.\n",
      "The behavior will change in pandas 3.0. This inplace method will never work because the intermediate object on which we are setting values always behaves as a copy.\n",
      "\n",
      "For example, when doing 'df[col].method(value, inplace=True)', try using 'df.method({col: value}, inplace=True)' or df[col] = df[col].method(value) instead, to perform the operation inplace on the original object.\n",
      "\n",
      "\n",
      "  df_copy['SkinThickness'].fillna(df_copy['SkinThickness'].median(), inplace=True)\n",
      "C:\\Users\\ASUS\\AppData\\Local\\Temp\\ipykernel_14188\\1317221848.py:13: FutureWarning: A value is trying to be set on a copy of a DataFrame or Series through chained assignment using an inplace method.\n",
      "The behavior will change in pandas 3.0. This inplace method will never work because the intermediate object on which we are setting values always behaves as a copy.\n",
      "\n",
      "For example, when doing 'df[col].method(value, inplace=True)', try using 'df.method({col: value}, inplace=True)' or df[col] = df[col].method(value) instead, to perform the operation inplace on the original object.\n",
      "\n",
      "\n",
      "  df_copy['Insulin'].fillna(df_copy['Insulin'].median(), inplace=True)\n",
      "C:\\Users\\ASUS\\AppData\\Local\\Temp\\ipykernel_14188\\1317221848.py:14: FutureWarning: A value is trying to be set on a copy of a DataFrame or Series through chained assignment using an inplace method.\n",
      "The behavior will change in pandas 3.0. This inplace method will never work because the intermediate object on which we are setting values always behaves as a copy.\n",
      "\n",
      "For example, when doing 'df[col].method(value, inplace=True)', try using 'df.method({col: value}, inplace=True)' or df[col] = df[col].method(value) instead, to perform the operation inplace on the original object.\n",
      "\n",
      "\n",
      "  df_copy['BMI'].fillna(df_copy['BMI'].median(), inplace=True)\n"
     ]
    }
   ],
   "source": [
    "df1 = pd.read_csv('diabetes.csv')\n",
    "\n",
    "df1 = df1.rename(columns={'DiabetesPedigreeFunction': 'DPF'})\n",
    "\n",
    "df_copy = df1.copy(deep=True)\n",
    "df_copy[['Glucose', 'BloodPressure', 'SkinThickness', 'Insulin', 'BMI']] = df_copy[['Glucose', 'BloodPressure',\n",
    "                                                                                    'SkinThickness', 'Insulin',\n",
    "                                                                                    'BMI']].replace(0, np.NaN)\n",
    "\n",
    "df_copy['Glucose'].fillna(df_copy['Glucose'].mean(), inplace=True)\n",
    "df_copy['BloodPressure'].fillna(df_copy['BloodPressure'].mean(), inplace=True)\n",
    "df_copy['SkinThickness'].fillna(df_copy['SkinThickness'].median(), inplace=True)\n",
    "df_copy['Insulin'].fillna(df_copy['Insulin'].median(), inplace=True)\n",
    "df_copy['BMI'].fillna(df_copy['BMI'].median(), inplace=True)\n",
    "\n",
    "\n",
    "X = df1.drop(columns='Outcome')\n",
    "y = df1['Outcome']\n",
    "X_train, X_test, y_train, y_test = train_test_split(X, y, test_size=0.20, random_state=0)\n",
    "\n",
    "\n",
    "classifier = RandomForestClassifier(n_estimators=20)\n",
    "classifier.fit(X_train, y_train)\n",
    "\n",
    "filename = 'diabetes-prediction-rfc-model.pkl'\n",
    "pickle.dump(classifier, open(filename, 'wb'))\n",
    "\n",
    "def predictt(data):\n",
    "        preg = data['pregnancies']\n",
    "        glucose = data['glucose']\n",
    "        bp = data['bloodPressure']\n",
    "        st = data['skinThickness']\n",
    "        insulin = data['insulin']\n",
    "        bmi = data['BMI']\n",
    "        dpf = data['diabetesPedigree']\n",
    "        age = data['age']\n",
    "\n",
    "        data = np.array([[preg, glucose, bp, st, insulin, bmi, dpf, age]])\n",
    "        my_prediction = classifier.predict(data)\n",
    "\n",
    "        return my_prediction"
   ]
  },
  {
   "cell_type": "markdown",
   "metadata": {},
   "source": [
    "heart"
   ]
  },
  {
   "cell_type": "code",
   "execution_count": null,
   "metadata": {},
   "outputs": [],
   "source": [
    "@app.route('/predictheart', methods=['POST'])\n",
    "def predictheart():\n",
    "    input_features = [float(x) for x in request.form.values()]\n",
    "    features_value = [np.array(input_features)]\n",
    "\n",
    "    features_name = [\"age\", \"trestbps\", \"chol\", \"thalach\", \"oldpeak\", \"sex_0\",\n",
    "                     \"  sex_1\", \"cp_0\", \"cp_1\", \"cp_2\", \"cp_3\", \"  fbs_0\",\n",
    "                     \"restecg_0\", \"restecg_1\", \"restecg_2\", \"exang_0\", \"exang_1\",\n",
    "                     \"slope_0\", \"slope_1\", \"slope_2\", \"ca_0\", \"ca_1\", \"ca_2\", \"thal_1\",\n",
    "                     \"thal_2\", \"thal_3\"]\n",
    "\n",
    "    df = pd.DataFrame(features_value, columns=features_name)\n",
    "    output = model1.predict(df)\n",
    "\n",
    "    if output == 1:\n",
    "        res_val = \"a high risk of Heart Disease\"\n",
    "    else:\n",
    "        res_val = \"a low risk of Heart Disease\"\n",
    "\n",
    "    return render_template('heart_result.html', prediction_text='Patient has {}'.format(res_val))"
   ]
  },
  {
   "cell_type": "code",
   "execution_count": 31,
   "metadata": {},
   "outputs": [
    {
     "name": "stdout",
     "output_type": "stream",
     "text": [
      "[1]\n",
      "1\n"
     ]
    },
    {
     "name": "stderr",
     "output_type": "stream",
     "text": [
      "c:\\Python312\\Lib\\site-packages\\sklearn\\base.py:493: UserWarning: X does not have valid feature names, but RandomForestClassifier was fitted with feature names\n",
      "  warnings.warn(\n",
      "c:\\Python312\\Lib\\site-packages\\sklearn\\base.py:486: UserWarning: X has feature names, but SVC was fitted without feature names\n",
      "  warnings.warn(\n"
     ]
    }
   ],
   "source": [
    "data={   \"pulseRate\": '80', \"age\": '45',  \"temperature\": '',   \"weight\": '',   \"bloodPressure\": '120',  \"pregnancies\": '6',   \"glucose\": '148',  \"skinThickness\": '35',  \"insulin\": '7',  \"BMI\": '34',   \"diabetesPedigree\": '1.42',\n",
    "      'specificGravity': '1','bloodSugar': '115',\n",
    "                'rbcCount': '5.92', 'pusCount':'8', 'pusClumps':'8', 'albumin':'45',\n",
    "      'clumpThick': '4',  'cellSize': '4', 'cellShape': '4', 'marginalAdhesion': '4', 'epithelial': '4', 'bareNuclei': '4', 'chromatin': '4', 'normalNuclei': '4', 'mitoses': '4'\n",
    "      }\n",
    "data['pulseRate']\n",
    "result=predictt(data)\n",
    "print(result)\n",
    "\n",
    "#resultkidney = predictkidney(data)\n",
    "#print(resultkidney)\n",
    "\n",
    "resultb = predict(data)\n",
    "print(resultb)"
   ]
  }
 ],
 "metadata": {
  "kernelspec": {
   "display_name": "Python 3",
   "language": "python",
   "name": "python3"
  },
  "language_info": {
   "codemirror_mode": {
    "name": "ipython",
    "version": 3
   },
   "file_extension": ".py",
   "mimetype": "text/x-python",
   "name": "python",
   "nbconvert_exporter": "python",
   "pygments_lexer": "ipython3",
   "version": "3.12.0"
  }
 },
 "nbformat": 4,
 "nbformat_minor": 2
}
